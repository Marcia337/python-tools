{
 "cells": [
  {
   "cell_type": "markdown",
   "metadata": {},
   "source": [
    "# Aula 20 janeiro - 20 jan 2025"
   ]
  },
  {
   "cell_type": "markdown",
   "metadata": {},
   "source": [
    "# Exercício 1"
   ]
  },
  {
   "cell_type": "code",
   "execution_count": 5,
   "metadata": {},
   "outputs": [
    {
     "name": "stdout",
     "output_type": "stream",
     "text": [
      "Hello, World!\n"
     ]
    }
   ],
   "source": [
    "print(\"Hello, World!\")\n"
   ]
  },
  {
   "cell_type": "markdown",
   "metadata": {},
   "source": [
    "# Exercício 2"
   ]
  },
  {
   "cell_type": "code",
   "execution_count": 7,
   "metadata": {},
   "outputs": [
    {
     "name": "stdout",
     "output_type": "stream",
     "text": [
      "O produto está na lista!\n"
     ]
    }
   ],
   "source": [
    "# Criar uma lista de exemplo\n",
    "minha_lista = [\"Arroz\", \"Feijão\", \"Macarrão\"]\n",
    "\n",
    "# Solicitar ao utilizador que insira algo\n",
    "item = input(\"Digite um item para verificar se está na lista: \")\n",
    "\n",
    "# Verificar se o item está na lista\n",
    "if item in minha_lista:\n",
    "    print(\"O produto está na lista!\")\n",
    "else:\n",
    "    print(\"O produto não está na lista.\")\n"
   ]
  },
  {
   "cell_type": "markdown",
   "metadata": {},
   "source": [
    "# Aula 2 - 22 jan 2025"
   ]
  },
  {
   "cell_type": "code",
   "execution_count": 8,
   "metadata": {},
   "outputs": [
    {
     "ename": "ModuleNotFoundError",
     "evalue": "No module named 'pandas'",
     "output_type": "error",
     "traceback": [
      "\u001b[0;31m---------------------------------------------------------------------------\u001b[0m",
      "\u001b[0;31mModuleNotFoundError\u001b[0m                       Traceback (most recent call last)",
      "Cell \u001b[0;32mIn[8], line 1\u001b[0m\n\u001b[0;32m----> 1\u001b[0m \u001b[38;5;28;01mimport\u001b[39;00m\u001b[38;5;250m \u001b[39m\u001b[38;5;21;01mpandas\u001b[39;00m\u001b[38;5;250m \u001b[39m\u001b[38;5;28;01mas\u001b[39;00m\u001b[38;5;250m \u001b[39m\u001b[38;5;21;01mpd\u001b[39;00m\n\u001b[1;32m      3\u001b[0m \u001b[38;5;66;03m# Criação de um DataFrame\u001b[39;00m\n\u001b[1;32m      4\u001b[0m df_dicionario \u001b[38;5;241m=\u001b[39m pd\u001b[38;5;241m.\u001b[39mDataFrame({\n\u001b[1;32m      5\u001b[0m     \u001b[38;5;124m'\u001b[39m\u001b[38;5;124mProduto\u001b[39m\u001b[38;5;124m'\u001b[39m:[\u001b[38;5;124m\"\u001b[39m\u001b[38;5;124mArroz\u001b[39m\u001b[38;5;124m\"\u001b[39m, \u001b[38;5;124m\"\u001b[39m\u001b[38;5;124mFeijão\u001b[39m\u001b[38;5;124m\"\u001b[39m, \u001b[38;5;124m\"\u001b[39m\u001b[38;5;124mMacarrão\u001b[39m\u001b[38;5;124m\"\u001b[39m], \n\u001b[1;32m      6\u001b[0m     \u001b[38;5;124m'\u001b[39m\u001b[38;5;124mPreço\u001b[39m\u001b[38;5;124m'\u001b[39m: [\u001b[38;5;241m1.5\u001b[39m, \u001b[38;5;241m2.0\u001b[39m, \u001b[38;5;241m1.2\u001b[39m]\n\u001b[1;32m      7\u001b[0m     })\n",
      "\u001b[0;31mModuleNotFoundError\u001b[0m: No module named 'pandas'"
     ]
    }
   ],
   "source": [
    "import pandas as pd\n",
    "\n",
    "# Criação de um DataFrame\n",
    "df_dicionario = pd.DataFrame({\n",
    "    'Produto':[\"Arroz\", \"Feijão\", \"Macarrão\"], \n",
    "    'Preço': [1.5, 2.0, 1.2]\n",
    "    })\n",
    "\n",
    "df_lista = pd.DataFrame([\n",
    "    [\"Arroz\", 1.5],\n",
    "    [\"Feijão\", 2.0],\n",
    "    [\"Macarrão\", 1.2]\n",
    "    \n",
    "], columns= [\"Produto\", \"Preço\"])\n",
    "\n",
    "print(df_dicionario)\n",
    "print(df_lista)\n",
    "\n",
    "# Produtoes com preço entre 1.5 e 2.0 e não sejam \"Arroz\"\n",
    "df_lista[(df_lista[\"Preço\"] > 1.5) & (df_lista[\"Preço\"] <= 2.0) & (df_lista[\"Produto\"] != \"Arroz\")]\n",
    "\n"
   ]
  },
  {
   "cell_type": "code",
   "execution_count": 3,
   "metadata": {},
   "outputs": [
    {
     "ename": "ModuleNotFoundError",
     "evalue": "No module named 'pandas'",
     "output_type": "error",
     "traceback": [
      "\u001b[0;31m---------------------------------------------------------------------------\u001b[0m",
      "\u001b[0;31mModuleNotFoundError\u001b[0m                       Traceback (most recent call last)",
      "Cell \u001b[0;32mIn[3], line 1\u001b[0m\n\u001b[0;32m----> 1\u001b[0m \u001b[38;5;28;01mimport\u001b[39;00m\u001b[38;5;250m \u001b[39m\u001b[38;5;21;01mpandas\u001b[39;00m\u001b[38;5;250m \u001b[39m\u001b[38;5;28;01mas\u001b[39;00m\u001b[38;5;250m \u001b[39m\u001b[38;5;21;01mpd\u001b[39;00m\n\u001b[1;32m      3\u001b[0m \u001b[38;5;66;03m# Criação de um DataFrame\u001b[39;00m\n\u001b[1;32m      4\u001b[0m df_dicionario \u001b[38;5;241m=\u001b[39m pd\u001b[38;5;241m.\u001b[39mDataFrame({\n\u001b[1;32m      5\u001b[0m     \u001b[38;5;124m'\u001b[39m\u001b[38;5;124mProduto\u001b[39m\u001b[38;5;124m'\u001b[39m:[\u001b[38;5;124m\"\u001b[39m\u001b[38;5;124mArroz\u001b[39m\u001b[38;5;124m\"\u001b[39m, \u001b[38;5;124m\"\u001b[39m\u001b[38;5;124mFeijão\u001b[39m\u001b[38;5;124m\"\u001b[39m, \u001b[38;5;124m\"\u001b[39m\u001b[38;5;124mMacarrão\u001b[39m\u001b[38;5;124m\"\u001b[39m], \n\u001b[1;32m      6\u001b[0m     \u001b[38;5;124m'\u001b[39m\u001b[38;5;124mPreço\u001b[39m\u001b[38;5;124m'\u001b[39m: [\u001b[38;5;241m1.5\u001b[39m, \u001b[38;5;241m2.0\u001b[39m, \u001b[38;5;241m1.2\u001b[39m]\n\u001b[1;32m      7\u001b[0m     })\n",
      "\u001b[0;31mModuleNotFoundError\u001b[0m: No module named 'pandas'"
     ]
    }
   ],
   "source": [
    "import pandas as pd\n",
    "\n",
    "# Criação de um DataFrame\n",
    "df_dicionario = pd.DataFrame({\n",
    "    'Produto':[\"Arroz\", \"Feijão\", \"Macarrão\"], \n",
    "    'Preço': [1.5, 2.0, 1.2]\n",
    "    })\n",
    "\n",
    "df_lista = pd.DataFrame([\n",
    "    [\"Arroz\", 1.5],\n",
    "    [\"Feijão\", 2.0],\n",
    "    [\"Macarrão\", 1.2]\n",
    "    \n",
    "], columns= [\"Produto\", \"Preço\"])\n",
    "\n",
    "print(df_dicionario)\n",
    "print(df_lista)\n",
    "\n",
    "# Produtoes com preço entre 1.5 e 2.0 e não sejam \"Arroz\"\n",
    "# df_lista[(df_lista[\"Preço\"] > 1.5) & (df_lista[\"Preço\"] <= 2.0) & (df_lista[\"Produto\"] != \"Arroz\")]\n",
    "# Para isto aparecer temos que retirar o código abaixo\n",
    "\n",
    "# Criar uma nova coluna com desconto\n",
    "df_lista[\"Preço com Desconto\"] = df_lista[\"Preço\"] * 0.9\n",
    "print(df_lista)\n",
    "\n",
    "# Criar nova coluna com classificação de Preço\n",
    "df_lista[\"Categoria\"] = df_lista[\"Preço\"].apply(lambda x: 'Alto' if x >1.5 else 'Baixo')\n",
    "print(df_lista)\n",
    "\n",
    "# Substituir valores específicos com replace()\n",
    "df_lista[\"Produto\"] = df_lista[\"Produto\"].replace(\"Arroz\", \"Arroz Integral\")\n",
    "print(df_lista)\n",
    "\n",
    "# Converter topo de dados com astype()\n",
    "df_lista[\"Preço\"] = df_lista[\"Preço\"].astype(float)\n",
    "print(df_lista)\n",
    "# Não se vê a mudança. Vou fazer com o tipo int\n",
    "df_lista[\"Preço com Desconto\"] = df_lista[\"Preço com Desconto\"].astype(int)\n",
    "print(df_lista)\n",
    "\n",
    "# Aplicar limites com clip() - Ajusta valores sem remover linhas\n",
    "df_lista[\"Preço\"] = df_lista[\"Preço\"].clip(lower=1.0, upper=2.0)\n",
    "print(df_lista)\n",
    "\n",
    "# Substituir valores com base em condição com where()\n",
    "# Mantém os valores acima de 1.5 e substitui os restantes por 0\n",
    "df_lista[\"Desconto\"] = df_lista[\"Preço\"].where(df_lista[\"Preço\"] >1.5, other=0)\n",
    "print(df_lista)\n",
    "\n",
    "# Aplicar função com map() em uma Series\n",
    "df_lista[\"Produto\"] = df_lista[\"Produto\"].map({\"Arroz Integral\": \"Arroz\", \"Feijão\": \"Feijão Preto\"})\n",
    "print(df_lista)"
   ]
  },
  {
   "cell_type": "code",
   "execution_count": 4,
   "metadata": {},
   "outputs": [
    {
     "name": "stdout",
     "output_type": "stream",
     "text": [
      "/Users/marcita/Library/CloudStorage/GoogleDrive-marciacosta@sonsemtransito.com/O meu disco/Pessoal/GITHUB_fundamentos/python-tools\n"
     ]
    }
   ],
   "source": [
    "import os\n",
    "print(os.getcwd())\n"
   ]
  },
  {
   "cell_type": "code",
   "execution_count": 5,
   "metadata": {},
   "outputs": [
    {
     "name": "stdout",
     "output_type": "stream",
     "text": [
      "True\n"
     ]
    }
   ],
   "source": [
    "import os\n",
    "\n",
    "caminho_arquivo = \"/Users/marcita/Downloads/Movies.xlsx\"\n",
    "print(os.path.exists(caminho_arquivo))  # Deve retornar True\n"
   ]
  },
  {
   "cell_type": "code",
   "execution_count": 6,
   "metadata": {},
   "outputs": [
    {
     "ename": "ModuleNotFoundError",
     "evalue": "No module named 'pandas'",
     "output_type": "error",
     "traceback": [
      "\u001b[0;31m---------------------------------------------------------------------------\u001b[0m",
      "\u001b[0;31mModuleNotFoundError\u001b[0m                       Traceback (most recent call last)",
      "Cell \u001b[0;32mIn[6], line 1\u001b[0m\n\u001b[0;32m----> 1\u001b[0m \u001b[38;5;28;01mimport\u001b[39;00m\u001b[38;5;250m \u001b[39m\u001b[38;5;21;01mpandas\u001b[39;00m\u001b[38;5;250m \u001b[39m\u001b[38;5;28;01mas\u001b[39;00m\u001b[38;5;250m \u001b[39m\u001b[38;5;21;01mpd\u001b[39;00m\n\u001b[1;32m      3\u001b[0m \u001b[38;5;66;03m# Caminho para o arquivo no Desktop\u001b[39;00m\n\u001b[1;32m      4\u001b[0m caminho_arquivo \u001b[38;5;241m=\u001b[39m \u001b[38;5;124m\"\u001b[39m\u001b[38;5;124m/Users/marcita/Downloads/Movies.xlsx\u001b[39m\u001b[38;5;124m\"\u001b[39m\n",
      "\u001b[0;31mModuleNotFoundError\u001b[0m: No module named 'pandas'"
     ]
    }
   ],
   "source": [
    "import pandas as pd\n",
    "\n",
    "# Caminho para o arquivo no Desktop\n",
    "caminho_arquivo = \"/Users/marcita/Downloads/Movies.xlsx\"\n",
    "\n",
    "# Leitura do Excel\n",
    "df_movies = pd.read_excel(caminho_arquivo, sheet_name=\"Films\")  # Corrigido o nome da variável\n",
    "\n",
    "# Mostrar as primeiras linhas do DataFrame\n",
    "print(df_movies.head(10))\n",
    "\n",
    "\n"
   ]
  },
  {
   "cell_type": "code",
   "execution_count": 12,
   "metadata": {},
   "outputs": [
    {
     "name": "stdout",
     "output_type": "stream",
     "text": [
      "        ID                  Title Release Date  Run Time            Genre  \\\n",
      "1195  1674     Samson and Delilah   1949-12-21       128            Drama   \n",
      "1196  1675  The NeverEnding Story   1984-04-06        93          Fantasy   \n",
      "1197  1676             Enemy Mine   1985-12-20       108  Science Fiction   \n",
      "1198  1677    In the Line of Fire   1993-07-09       128         Thriller   \n",
      "1199  1678               Outbreak   1995-03-10       128         Thriller   \n",
      "\n",
      "               Director                     Studio        Country Language  \\\n",
      "1195   Cecil B. DeMille         Paramount Pictures  United States  English   \n",
      "1196  Wolfgang Peterson               Bavaria Film        Germany  English   \n",
      "1197  Wolfgang Peterson   Kings Road Entertainment  United States  English   \n",
      "1198  Wolfgang Peterson  Castle Rock Entertainment  United States  English   \n",
      "1199  Wolfgang Peterson      Warner Bros. Pictures  United States  English   \n",
      "\n",
      "     Certificate      Budget   Box Office  Nominations  Oscar Wins  \n",
      "1195           U   2900000.0   25600000.0            5           2  \n",
      "1196           U  27000000.0  100000000.0            0           0  \n",
      "1197          15  29000000.0   12300000.0            0           0  \n",
      "1198          15  40000000.0  177000000.0            3           0  \n",
      "1199          15  50000000.0  189800000.0            0           0  \n"
     ]
    }
   ],
   "source": [
    "import pandas as pd\n",
    "\n",
    "# Caminho para o arquivo no Desktop\n",
    "caminho_arquivo = \"/Users/marcita/Downloads/Movies.xlsx\"\n",
    "\n",
    "# Leitura do Excel\n",
    "df_movies = pd.read_excel(caminho_arquivo, sheet_name=\"Films\")  # Corrigido o nome da variável\n",
    "\n",
    "# Mostrar as primeiras linhas do DataFrame\n",
    "print(df_movies.tail())"
   ]
  },
  {
   "cell_type": "code",
   "execution_count": 13,
   "metadata": {},
   "outputs": [
    {
     "name": "stdout",
     "output_type": "stream",
     "text": [
      "       ID                  Title Release Date  Run Time            Genre  \\\n",
      "515   546      Dog Day Afternoon   1975-09-21       125            Crime   \n",
      "185   187       The Untouchables   1987-06-03       119            Crime   \n",
      "60     62        Minority Report   2002-07-04       145  Science Fiction   \n",
      "959  1433      Where Eagles Dare   1968-12-04       155              War   \n",
      "164   166  A History of Violence   2005-09-23        96            Drama   \n",
      "\n",
      "             Director                 Studio         Country Language  \\\n",
      "515      Sidney Lumet  Warner Bros. Pictures   United States  English   \n",
      "185    Brian De Palma     Paramount Pictures   United States  English   \n",
      "60   Steven Spielberg   Amblin Entertainment   United States  English   \n",
      "959   Brian G. Hutton    Metro-Goldwyn-Mayer  United Kingdom  English   \n",
      "164  David Cronenberg        New Line Cinema   United States  English   \n",
      "\n",
      "    Certificate       Budget   Box Office  Nominations  Oscar Wins  \n",
      "515          15    1800000.0   50000000.0            6           1  \n",
      "185          15   25000000.0  106240936.0            4           1  \n",
      "60           12  102000000.0  358300000.0            1           0  \n",
      "959          PG    7700000.0   21000000.0            0           0  \n",
      "164          18   32000000.0   60740827.0            2           0  \n"
     ]
    }
   ],
   "source": [
    "import pandas as pd\n",
    "\n",
    "# Caminho para o arquivo no Desktop\n",
    "caminho_arquivo = \"/Users/marcita/Downloads/Movies.xlsx\"\n",
    "\n",
    "# Leitura do Excel\n",
    "df_movies = pd.read_excel(caminho_arquivo, sheet_name=\"Films\")  # Corrigido o nome da variável\n",
    "\n",
    "# Mostrar as primeiras linhas do DataFrame\n",
    "print(df_movies.sample(5))"
   ]
  },
  {
   "cell_type": "code",
   "execution_count": 14,
   "metadata": {},
   "outputs": [
    {
     "name": "stdout",
     "output_type": "stream",
     "text": [
      "<class 'pandas.core.frame.DataFrame'>\n",
      "RangeIndex: 1200 entries, 0 to 1199\n",
      "Data columns (total 14 columns):\n",
      " #   Column        Non-Null Count  Dtype         \n",
      "---  ------        --------------  -----         \n",
      " 0   ID            1200 non-null   int64         \n",
      " 1   Title         1200 non-null   object        \n",
      " 2   Release Date  1200 non-null   datetime64[ns]\n",
      " 3   Run Time      1200 non-null   int64         \n",
      " 4   Genre         1200 non-null   object        \n",
      " 5   Director      1200 non-null   object        \n",
      " 6   Studio        1200 non-null   object        \n",
      " 7   Country       1199 non-null   object        \n",
      " 8   Language      1200 non-null   object        \n",
      " 9   Certificate   1200 non-null   object        \n",
      " 10  Budget        1076 non-null   float64       \n",
      " 11  Box Office    1083 non-null   float64       \n",
      " 12  Nominations   1200 non-null   int64         \n",
      " 13  Oscar Wins    1200 non-null   int64         \n",
      "dtypes: datetime64[ns](1), float64(2), int64(4), object(7)\n",
      "memory usage: 131.4+ KB\n",
      "None\n"
     ]
    }
   ],
   "source": [
    "import pandas as pd\n",
    "\n",
    "# Caminho para o arquivo no Desktop\n",
    "caminho_arquivo = \"/Users/marcita/Downloads/Movies.xlsx\"\n",
    "\n",
    "# Leitura do Excel\n",
    "df_movies = pd.read_excel(caminho_arquivo, sheet_name=\"Films\")  # Corrigido o nome da variável\n",
    "\n",
    "# Mostrar as primeiras linhas do DataFrame\n",
    "print(df_movies.info())"
   ]
  },
  {
   "cell_type": "code",
   "execution_count": 15,
   "metadata": {},
   "outputs": [
    {
     "name": "stdout",
     "output_type": "stream",
     "text": [
      "                ID         Release Date     Run Time        Budget  \\\n",
      "count  1200.000000                 1200  1200.000000  1.076000e+03   \n",
      "mean    833.649167  1991-10-04 13:27:36   119.652500  5.499924e+07   \n",
      "min       1.000000  1921-01-21 00:00:00    68.000000  3.000000e+04   \n",
      "25%     307.750000  1979-08-10 06:00:00   102.000000  8.425000e+06   \n",
      "50%     705.000000  1996-05-30 00:00:00   116.000000  3.000000e+07   \n",
      "75%    1373.250000  2007-08-22 00:00:00   131.000000  8.200000e+07   \n",
      "max    1678.000000  2016-12-21 00:00:00   260.000000  3.785000e+08   \n",
      "std     558.618331                  NaN    24.661615  6.141177e+07   \n",
      "\n",
      "         Box Office  Nominations   Oscar Wins  \n",
      "count  1.083000e+03  1200.000000  1200.000000  \n",
      "mean   2.342372e+08     1.839167     0.569167  \n",
      "min    2.724450e+05     0.000000     0.000000  \n",
      "25%    4.233279e+07     0.000000     0.000000  \n",
      "50%    1.243000e+08     0.000000     0.000000  \n",
      "75%    3.301000e+08     3.000000     0.000000  \n",
      "max    2.788000e+09    14.000000    11.000000  \n",
      "std    2.874345e+08     2.981170     1.491220  \n"
     ]
    }
   ],
   "source": [
    "import pandas as pd\n",
    "\n",
    "# Caminho para o arquivo no Desktop\n",
    "caminho_arquivo = \"/Users/marcita/Downloads/Movies.xlsx\"\n",
    "\n",
    "# Leitura do Excel\n",
    "df_movies = pd.read_excel(caminho_arquivo, sheet_name=\"Films\")  # Corrigido o nome da variável\n",
    "\n",
    "# Mostrar as primeiras linhas do DataFrame\n",
    "print(df_movies.describe())"
   ]
  },
  {
   "cell_type": "code",
   "execution_count": 17,
   "metadata": {},
   "outputs": [
    {
     "name": "stdout",
     "output_type": "stream",
     "text": [
      "0            Amblin Entertainment\n",
      "1            Marvel Entertainment\n",
      "2                   WingNut Films\n",
      "3              Legendary Pictures\n",
      "4                20th Century Fox\n",
      "                  ...            \n",
      "1195           Paramount Pictures\n",
      "1196                 Bavaria Film\n",
      "1197     Kings Road Entertainment\n",
      "1198    Castle Rock Entertainment\n",
      "1199        Warner Bros. Pictures\n",
      "Name: Studio, Length: 1200, dtype: object\n"
     ]
    }
   ],
   "source": [
    "import pandas as pd\n",
    "\n",
    "# Caminho para o arquivo no Desktop\n",
    "caminho_arquivo = \"/Users/marcita/Downloads/Movies.xlsx\"\n",
    "\n",
    "# Leitura do Excel\n",
    "df_movies = pd.read_excel(caminho_arquivo, sheet_name=\"Films\")  # Corrigido o nome da variável\n",
    "\n",
    "# Mostrar as primeiras linhas do DataFrame\n",
    "print(df_movies[\"Studio\"])"
   ]
  },
  {
   "cell_type": "code",
   "execution_count": 18,
   "metadata": {},
   "outputs": [
    {
     "name": "stdout",
     "output_type": "stream",
     "text": [
      "ID                                 1\n",
      "Title                  Jurassic Park\n",
      "Release Date     1993-06-11 00:00:00\n",
      "Run Time                         126\n",
      "Genre                      Adventure\n",
      "Director            Steven Spielberg\n",
      "Studio          Amblin Entertainment\n",
      "Country                United States\n",
      "Language                     English\n",
      "Certificate                       PG\n",
      "Budget                    63000000.0\n",
      "Box Office              1029939903.0\n",
      "Nominations                        3\n",
      "Oscar Wins                         3\n",
      "Name: 0, dtype: object\n"
     ]
    }
   ],
   "source": [
    "import pandas as pd\n",
    "\n",
    "# Caminho para o arquivo no Desktop\n",
    "caminho_arquivo = \"/Users/marcita/Downloads/Movies.xlsx\"\n",
    "\n",
    "# Leitura do Excel\n",
    "df_movies = pd.read_excel(caminho_arquivo, sheet_name=\"Films\")  # Corrigido o nome da variável\n",
    "\n",
    "# Mostrar as primeiras linhas do DataFrame\n",
    "print(df_movies.iloc[0])"
   ]
  },
  {
   "cell_type": "code",
   "execution_count": 19,
   "metadata": {},
   "outputs": [
    {
     "name": "stdout",
     "output_type": "stream",
     "text": [
      "ID                                 2\n",
      "Title                     Spider-Man\n",
      "Release Date     2002-05-03 00:00:00\n",
      "Run Time                         121\n",
      "Genre                         Action\n",
      "Director                   Sam Raimi\n",
      "Studio          Marvel Entertainment\n",
      "Country                United States\n",
      "Language                     English\n",
      "Certificate                      12A\n",
      "Budget                   140000000.0\n",
      "Box Office               821708551.0\n",
      "Nominations                        2\n",
      "Oscar Wins                         0\n",
      "Name: 1, dtype: object\n"
     ]
    }
   ],
   "source": [
    "import pandas as pd\n",
    "\n",
    "# Caminho para o arquivo no Desktop\n",
    "caminho_arquivo = \"/Users/marcita/Downloads/Movies.xlsx\"\n",
    "\n",
    "# Leitura do Excel\n",
    "df_movies = pd.read_excel(caminho_arquivo, sheet_name=\"Films\")  # Corrigido o nome da variável\n",
    "\n",
    "# Mostrar as primeiras linhas do DataFrame\n",
    "print(df_movies.loc[1])"
   ]
  },
  {
   "cell_type": "code",
   "execution_count": 23,
   "metadata": {},
   "outputs": [
    {
     "name": "stdout",
     "output_type": "stream",
     "text": [
      "        ID                                      Title Release Date  Run Time  \\\n",
      "4        6                                    Titanic   1998-01-23       194   \n",
      "55      57                                The Aviator   2004-12-25       170   \n",
      "61      63                Terminator 2: Judgement Day   1991-08-16       136   \n",
      "66      68                                  Gladiator   2000-05-05       155   \n",
      "71      73  The Lord of the Rings: Return of the King   2003-12-17       201   \n",
      "99     101                                 Braveheart   1995-05-24       177   \n",
      "112    114                        Saving Private Ryan   1998-07-24       170   \n",
      "186    188                           Schindler's List   1993-12-15       197   \n",
      "192    194                                     Gandhi   1982-12-02       188   \n",
      "195    197                    Raiders of the Lost Ark   1981-06-12       115   \n",
      "197    200                         Dances with Wolves   1990-10-19       180   \n",
      "207    210                            American Beauty   1999-09-08       122   \n",
      "226    229          Star Wars: Episode IV: A New Hope   1977-05-25       121   \n",
      "242    246                Around the World in 80 Days   1956-10-17       183   \n",
      "279    287                                    Gravity   2013-10-04        91   \n",
      "367    376                        Shakespeare in Love   1998-12-03       123   \n",
      "409    420                   The Silence of the Lambs   1991-02-14       118   \n",
      "450    464                              Out Of Africa   1985-12-18       161   \n",
      "461    477                        Terms of Endearment   1983-12-09       132   \n",
      "486    510                          Kramer vs. Kramer   1979-12-19       105   \n",
      "499    525                            The Deer Hunter   1978-12-08       183   \n",
      "514    545            One Flew Over the Cuckoo's Nest   1975-11-19       133   \n",
      "522    558                      The Godfather Part II   1974-12-12       202   \n",
      "525    563                                  The Sting   1973-12-26       129   \n",
      "534    578                                    Cabaret   1972-02-13       124   \n",
      "536    583                      The French Connection   1971-10-09       104   \n",
      "543    593                                     Patton   1970-04-02       170   \n",
      "555    615                                    Oliver!   1968-09-26       153   \n",
      "564    638                         The Sound of Music   1965-03-02       174   \n",
      "565    639                             Doctor Zhivago   1965-12-22       193   \n",
      "568    647                               Mary Poppins   1964-08-27       139   \n",
      "569    648                               My Fair Lady   1964-11-09       170   \n",
      "578    664                         Lawrence of Arabia   1962-12-10       222   \n",
      "582    674                            West Side Story   1961-10-18       152   \n",
      "594    694                                    Ben-Hur   1959-11-18       212   \n",
      "603    714               The Bridge on the River Kwai   1957-10-02       161   \n",
      "609    727                             The King and I   1956-06-28       133   \n",
      "617    754                      From Here to Eternity   1953-08-05       118   \n",
      "636    893                         Gone with the Wind   1939-12-15       221   \n",
      "852   1326                        Slumdog Millionaire   2008-08-30       120   \n",
      "1010  1485                                       Hugo   2011-10-10       126   \n",
      "1018  1493                         Mad Max: Fury Road   2015-05-07       120   \n",
      "1071  1547                        The English Patient   1996-11-15       162   \n",
      "1079  1555                            The Hurt Locker   2008-09-04       131   \n",
      "1189  1668                          On the Waterfront   1954-07-28       108   \n",
      "1193  1672                         A Place in the Sun   1951-08-14       122   \n",
      "\n",
      "                Genre               Director                           Studio  \\\n",
      "4             Romance          James Cameron                 20th Century Fox   \n",
      "55          Biography        Martin Scorsese                     Forward Pass   \n",
      "61    Science Fiction          James Cameron                 Carolco Pictures   \n",
      "66          Adventure           Ridley Scott           Scott Free Productions   \n",
      "71            Fantasy          Peter Jackson                    WingNut Films   \n",
      "99            History             Mel Gibson                 Icon Productions   \n",
      "112               War       Steven Spielberg             Amblin Entertainment   \n",
      "186           History       Steven Spielberg             Amblin Entertainment   \n",
      "192         Biography   Richard Attenborough                  Goldcrest Films   \n",
      "195         Adventure       Steven Spielberg                        Lucasfilm   \n",
      "197           Western          Kevin Costner                  Tig Productions   \n",
      "207             Drama             Sam Mendes              Jinks/Cohen Company   \n",
      "226   Science Fiction           George Lucas                        Lucasfilm   \n",
      "242         Adventure       Michael Anderson                   United Artists   \n",
      "279   Science Fiction         Alfonso Cuaron                     Heyday Films   \n",
      "367   Romantic Comedy            John Madden        The Bedford Falls Company   \n",
      "409          Thriller         Jonathan Demme    Strong Heart/Demme Production   \n",
      "450           Romance         Sydney Pollack                   Mirage Studios   \n",
      "461             Drama        James L. Brooks               Paramount Pictures   \n",
      "486             Drama          Robert Benton                Columbia Pictures   \n",
      "499             Drama         Michael Cimino                        EMI Films   \n",
      "514             Drama           Milos Forman                   United Artists   \n",
      "522             Crime   Francis Ford Coppola               Paramount Pictures   \n",
      "525             Crime        George Roy Hill               Universal Pictures   \n",
      "534           Musical              Bob Fosse                   Allied Artists   \n",
      "536             Crime       William Friedkin                 20th Century Fox   \n",
      "543         Biography  Franklin J. Schaffner                 20th Century Fox   \n",
      "555           Musical             Carol Reed                Columbia Pictures   \n",
      "564           Musical            Robert Wise                 20th Century Fox   \n",
      "565           Romance             David Lean              Metro-Goldwyn-Mayer   \n",
      "568           Musical       Robert Stevenson             Walt Disney Pictures   \n",
      "569           Musical           George Cukor            Warner Bros. Pictures   \n",
      "578         Biography             David Lean                 Horizon Pictures   \n",
      "582           Musical            Robert Wise   The Mirisch Production Company   \n",
      "594             Drama          William Wyler              Metro-Goldwyn-Mayer   \n",
      "603               War             David Lean                 Horizon Pictures   \n",
      "609           Musical            Walter Lang                 20th Century Fox   \n",
      "617             Drama         Fred Zinnemann                Columbia Pictures   \n",
      "636           Romance         Victor Fleming  Selznick International Pictures   \n",
      "852             Drama            Danny Boyle             FilmFour Productions   \n",
      "1010        Adventure        Martin Scorsese               Paramount Pictures   \n",
      "1018           Action          George Miller                   Kennedy Miller   \n",
      "1071          Romance      Anthony Minghella                    Miramax Films   \n",
      "1079              War        Kathryn Bigelow             Summit Entertainment   \n",
      "1189            Crime             Elia Kazan                 Horizon Pictures   \n",
      "1193            Drama         George Stevens               Paramount Pictures   \n",
      "\n",
      "             Country Language Certificate       Budget    Box Office  \\\n",
      "4      United States  English          12  200000000.0  2.186772e+09   \n",
      "55     United States  English         12A  110000000.0  2.146088e+08   \n",
      "61     United States  English          15  100000000.0  5.168162e+08   \n",
      "66     United States  English          15  103000000.0  4.576000e+08   \n",
      "71       New Zealand  English         12A   94000000.0  1.119930e+09   \n",
      "99     United States  English          15   72000000.0  2.104099e+08   \n",
      "112    United States  English          15   70000000.0  4.818409e+08   \n",
      "186    United States  English          15   22000000.0  3.212000e+08   \n",
      "192   United Kingdom  English          PG   22000000.0  5.276789e+07   \n",
      "195    United States  English          PG   18000000.0  3.899000e+08   \n",
      "197    United States  English          15    2000000.0  4.242088e+08   \n",
      "207    United States  English          18   15000000.0  3.562966e+08   \n",
      "226    United States  English           U   11000000.0  7.754000e+08   \n",
      "242    United States  English           U    6000000.0  4.200000e+07   \n",
      "279    United States  English         12A  100000000.0  7.232000e+08   \n",
      "367   United Kingdom  English          15   25000000.0  2.893000e+08   \n",
      "409    United States  English          18   19000000.0  2.727000e+08   \n",
      "450    United States  English          PG   28000000.0  1.285000e+08   \n",
      "461    United States  English          15    8000000.0  1.084000e+08   \n",
      "486    United States  English          PG    8000000.0  1.062600e+08   \n",
      "499    United States  English          18   15000000.0  4.900000e+07   \n",
      "514    United States  English          18    3000000.0  1.090000e+08   \n",
      "522    United States  English          18   13000000.0  5.730000e+07   \n",
      "525    United States  English          PG    5500000.0  1.596000e+08   \n",
      "534    United States  English          15    2285000.0  4.276500e+07   \n",
      "536    United States  English          18    1800000.0  5.170000e+07   \n",
      "543    United States  English          PG   12600000.0  6.180000e+07   \n",
      "555   United Kingdom  English           U   10000000.0  7.740000e+07   \n",
      "564    United States  English           U    8200000.0  2.862000e+08   \n",
      "565   United Kingdom  English          15   11000000.0  1.117000e+08   \n",
      "568    United States  English           U          NaN  1.023000e+08   \n",
      "569    United States  English           U   17000000.0  7.200000e+07   \n",
      "578   United Kingdom  English          PG   15000000.0  7.000000e+07   \n",
      "582    United States  English          PG    6000000.0  4.370000e+07   \n",
      "594    United States  English          PG   15200000.0  1.469000e+08   \n",
      "603   United Kingdom  English           U    2800000.0  3.060000e+07   \n",
      "609    United States  English           U    4550000.0  2.130000e+07   \n",
      "617    United States  English          PG    2500000.0  3.050000e+07   \n",
      "636    United States  English          PG    3850000.0  1.980000e+08   \n",
      "852   United Kingdom  English          15   15000000.0  3.779000e+08   \n",
      "1010  United Kingdom  English           U  170000000.0  1.858000e+08   \n",
      "1018       Australia  English          15  150000000.0  3.784000e+08   \n",
      "1071  United Kingdom  English          15   27000000.0  2.320000e+08   \n",
      "1079   United States  English          15   15000000.0  4.920000e+07   \n",
      "1189   United States  English          PG     910000.0  9.600000e+06   \n",
      "1193   United States  English          PG    2295000.0  7.000000e+06   \n",
      "\n",
      "      Nominations  Oscar Wins  \n",
      "4              14          11  \n",
      "55             11           5  \n",
      "61              4           6  \n",
      "66             12           5  \n",
      "71             11          11  \n",
      "99             10           5  \n",
      "112            11           5  \n",
      "186            12           7  \n",
      "192            11           8  \n",
      "195             9           5  \n",
      "197            12           7  \n",
      "207             8           5  \n",
      "226            11           7  \n",
      "242             8           5  \n",
      "279            10           7  \n",
      "367            13           7  \n",
      "409             7           5  \n",
      "450            11           7  \n",
      "461            11           5  \n",
      "486             9           5  \n",
      "499             9           5  \n",
      "514             9           5  \n",
      "522            11           6  \n",
      "525            10           7  \n",
      "534            10           8  \n",
      "536             8           5  \n",
      "543            10           7  \n",
      "555            11           5  \n",
      "564            10           5  \n",
      "565            10           5  \n",
      "568            13           5  \n",
      "569            12           8  \n",
      "578            10           7  \n",
      "582            11          10  \n",
      "594            12          11  \n",
      "603             8           7  \n",
      "609             9           5  \n",
      "617            13           8  \n",
      "636            13           8  \n",
      "852            10           8  \n",
      "1010           11           5  \n",
      "1018           10           6  \n",
      "1071           12           9  \n",
      "1079            9           6  \n",
      "1189           12           8  \n",
      "1193            9           6  \n"
     ]
    }
   ],
   "source": [
    "import pandas as pd\n",
    "\n",
    "# Caminho para o arquivo no Desktop\n",
    "caminho_arquivo = \"/Users/marcita/Downloads/Movies.xlsx\"\n",
    "\n",
    "# Leitura do Excel\n",
    "df_movies = pd.read_excel(caminho_arquivo, sheet_name=\"Films\")  # Corrigido o nome da variável\n",
    "\n",
    "# Mostrar as primeiras linhas do DataFrame\n",
    "print(df_movies[df_movies[\"Oscar Wins\"] > 4])"
   ]
  },
  {
   "cell_type": "code",
   "execution_count": 54,
   "metadata": {},
   "outputs": [
    {
     "name": "stdout",
     "output_type": "stream",
     "text": [
      "    Produto  Preço  Stock\n",
      "0     Arroz    1.2    100\n",
      "1    Feijão    2.5     50\n",
      "2  Macarrão    1.8     70\n",
      "3    Batata    0.9     30\n",
      "    Produto  Preço  Stock\n",
      "1    Feijão    2.5     50\n",
      "2  Macarrão    1.8     70\n"
     ]
    }
   ],
   "source": [
    "import pandas as pd\n",
    "\n",
    "# Criação de um DataFrame\n",
    "df = pd.DataFrame({\n",
    "    'Produto':[\"Arroz\", \"Feijão\", \"Macarrão\", \"Batata\"], \n",
    "    'Preço': [1.2, 2.5, 1.8, 0.9],\n",
    "    \"Stock\": [100, 50, 70, 30]\n",
    "    })\n",
    "print(df)\n",
    "\n",
    "# Filtrar produtos com preço maior que 1.5\n",
    "df_filtrado = df[df[\"Preço\"] > 1.5]\n",
    "print(df_filtrado)  \n",
    "\n",
    "\n"
   ]
  },
  {
   "cell_type": "code",
   "execution_count": 9,
   "metadata": {},
   "outputs": [
    {
     "ename": "ModuleNotFoundError",
     "evalue": "No module named 'pandas'",
     "output_type": "error",
     "traceback": [
      "\u001b[0;31m---------------------------------------------------------------------------\u001b[0m",
      "\u001b[0;31mModuleNotFoundError\u001b[0m                       Traceback (most recent call last)",
      "Cell \u001b[0;32mIn[9], line 1\u001b[0m\n\u001b[0;32m----> 1\u001b[0m \u001b[38;5;28;01mimport\u001b[39;00m\u001b[38;5;250m \u001b[39m\u001b[38;5;21;01mpandas\u001b[39;00m\u001b[38;5;250m \u001b[39m\u001b[38;5;28;01mas\u001b[39;00m\u001b[38;5;250m \u001b[39m\u001b[38;5;21;01mpd\u001b[39;00m\n\u001b[1;32m      2\u001b[0m \u001b[38;5;28mprint\u001b[39m(pd\u001b[38;5;241m.\u001b[39m__version__)\n",
      "\u001b[0;31mModuleNotFoundError\u001b[0m: No module named 'pandas'"
     ]
    }
   ],
   "source": [
    "import pandas as pd\n",
    "print(pd.__version__)\n"
   ]
  }
 ],
 "metadata": {
  "kernelspec": {
   "display_name": "Python 3",
   "language": "python",
   "name": "python3"
  },
  "language_info": {
   "codemirror_mode": {
    "name": "ipython",
    "version": 3
   },
   "file_extension": ".py",
   "mimetype": "text/x-python",
   "name": "python",
   "nbconvert_exporter": "python",
   "pygments_lexer": "ipython3",
   "version": "3.13.1"
  }
 },
 "nbformat": 4,
 "nbformat_minor": 2
}
